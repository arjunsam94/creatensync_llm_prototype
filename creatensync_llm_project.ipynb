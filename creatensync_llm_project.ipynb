{
  "nbformat": 4,
  "nbformat_minor": 0,
  "metadata": {
    "colab": {
      "provenance": [],
      "toc_visible": true
    },
    "kernelspec": {
      "name": "python3",
      "display_name": "Python 3"
    },
    "language_info": {
      "name": "python"
    }
  },
  "cells": [
    {
      "cell_type": "code",
      "source": [
        "from transformers import pipeline"
      ],
      "metadata": {
        "id": "zSI97C0trrxo"
      },
      "execution_count": null,
      "outputs": []
    },
    {
      "cell_type": "code",
      "source": [
        "model_id = \"openai/whisper-small\"\n",
        "pipe = pipeline(\"automatic-speech-recognition\", model=model_id)"
      ],
      "metadata": {
        "id": "Y8c39Gxprrsc",
        "collapsed": true
      },
      "execution_count": null,
      "outputs": []
    },
    {
      "cell_type": "code",
      "source": [
        "classifier = pipeline(\"zero-shot-classification\", model=\"facebook/bart-large-mnli\")"
      ],
      "metadata": {
        "id": "z6C5BMg-JBJq",
        "collapsed": true
      },
      "execution_count": null,
      "outputs": []
    },
    {
      "cell_type": "code",
      "source": [
        "!pip install beautifulsoup4 requests\n",
        "\n",
        "import requests\n",
        "from bs4 import BeautifulSoup"
      ],
      "metadata": {
        "id": "6da2nBbzYieh",
        "collapsed": true
      },
      "execution_count": null,
      "outputs": []
    },
    {
      "cell_type": "code",
      "source": [
        "import json\n",
        "import re"
      ],
      "metadata": {
        "id": "9Ukcimbyrt7k"
      },
      "execution_count": null,
      "outputs": []
    },
    {
      "cell_type": "code",
      "source": [
        "def transcribe_speech(filepath):\n",
        "    output = pipe(\n",
        "        filepath,\n",
        "        generate_kwargs={\n",
        "            \"task\": \"transcribe\"\n",
        "        },\n",
        "        chunk_length_s=30,\n",
        "        batch_size=8,\n",
        "    )\n",
        "    return output[\"text\"]\n",
        "\n",
        "def zero_shot_classification(text):\n",
        "\n",
        "    transcribed_text = text\n",
        "\n",
        "    url = 'https://www.producthunt.com/categories'\n",
        "    response = requests.get(url)\n",
        "    soup = BeautifulSoup(response.content, 'html.parser')\n",
        "    h2_tags = soup.find_all('h2')\n",
        "    h2_texts = [tag.text.strip() for tag in h2_tags]\n",
        "    categories = h2_texts\n",
        "\n",
        "    results = classifier(transcribed_text, candidate_labels=categories)\n",
        "    label_score_pairs = sorted(zip(results['labels'], results['scores']), key=lambda x: x[1], reverse=True)[:3]\n",
        "    data = {label: score for label, score in label_score_pairs}\n",
        "    return data\n",
        "\n",
        "def get_products(all_products):\n",
        "    input_dict = json.loads(all_products.replace(\"'\", '\"'))\n",
        "    formatted_category = re.sub(r'[ &]+', '-', list(input_dict.keys())[0]).lower()\n",
        "    full_url = f\"https://www.producthunt.com/categories/{formatted_category}\"\n",
        "    response = requests.get(full_url)\n",
        "    soup = BeautifulSoup(response.content, 'html.parser')\n",
        "    titles = [div.get_text().strip() for div in soup.select('div[class=\"text-18 font-semibold text-blue\"]')]\n",
        "    descriptions = [div.get_text().strip() for div in soup.select('div[class=\"text-14 sm:text-16 font-normal text-light-gray mb-6\"]')]\n",
        "    products = list(zip(titles, descriptions))[:5]\n",
        "\n",
        "    html_content = \"\"\n",
        "    for title, description in products:\n",
        "            html_content += f'''\n",
        "            <div style=\"border: 1px solid #ccc; border-radius: 10px; padding: 20px; margin-bottom: 10px;\n",
        "                        background: linear-gradient(to right, #f9f9f9, #e8e8e8); color: #333;\">\n",
        "                <h2 style=\"text-decoration: none; color: #2c3e50;\">{title}</h2>\n",
        "                <p style=\"color: #34495e;\">{description}</p>\n",
        "            </div>\n",
        "            '''\n",
        "    return html_content"
      ],
      "metadata": {
        "id": "MweBaeOXsvwo"
      },
      "execution_count": null,
      "outputs": []
    },
    {
      "cell_type": "code",
      "source": [
        "!pip install gradio"
      ],
      "metadata": {
        "id": "WOdss9UjxLjZ",
        "collapsed": true
      },
      "execution_count": null,
      "outputs": []
    },
    {
      "cell_type": "code",
      "source": [
        "import gradio as gr"
      ],
      "metadata": {
        "id": "opZVsMMktSdt"
      },
      "execution_count": null,
      "outputs": []
    },
    {
      "cell_type": "code",
      "source": [
        "css = \"\"\"\n",
        ".container {\n",
        "    height: 100%;\n",
        "}\n",
        ".scrollable-content {\n",
        "        flex-grow: 1;\n",
        "        overflow-y: auto; /* Make content within scrollable */\n",
        "        padding: 10px;\n",
        "}\n",
        "\"\"\""
      ],
      "metadata": {
        "id": "HuXzphFszxYP"
      },
      "execution_count": null,
      "outputs": []
    },
    {
      "cell_type": "code",
      "source": [
        "with gr.Blocks(css=css) as demo:\n",
        "    with gr.Row(elem_classes=[\"container\"]):\n",
        "        with gr.Column():\n",
        "            audio_input = gr.Audio(sources=\"upload\", type=\"filepath\", label=\"Your audio file\")\n",
        "            process_button = gr.Button(\"Process\")\n",
        "            transcription_output = gr.TextArea(label=\"Transcribed text\", lines=5, placeholder=\"Transcribed text will appear here...\", interactive=True)\n",
        "            classify_button = gr.Button(\"Classify Text\")\n",
        "            classification_output = gr.Textbox(label=\"Classification Results\", placeholder=\"Classification results will appear here...\")\n",
        "            get_product_button = gr.Button(\"Get opportunities\")\n",
        "\n",
        "            process_button.click(transcribe_speech, inputs=audio_input, outputs=transcription_output)\n",
        "            classify_button.click(zero_shot_classification, inputs=transcription_output, outputs=classification_output)\n",
        "\n",
        "        with gr.Column(elem_classes=[\"scrollable-content\"]):\n",
        "            get_product_output = gr.HTML()\n",
        "            get_product_button.click(get_products, inputs=classification_output, outputs=get_product_output)\n",
        "\n",
        "    demo.launch()"
      ],
      "metadata": {
        "id": "DrLYT64QnC_C",
        "collapsed": true
      },
      "execution_count": null,
      "outputs": []
    }
  ]
}